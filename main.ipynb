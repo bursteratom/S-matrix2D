{
 "cells": [
  {
   "cell_type": "code",
   "execution_count": 2,
   "metadata": {},
   "outputs": [],
   "source": [
    "import sys, os\n",
    "import numpy as np\n",
    "import json\n",
    "cwd = os.getcwd() \n",
    "\n",
    "import config as cfg\n",
    "import grid as grd\n",
    "import bootstrap as bs"
   ]
  },
  {
   "cell_type": "code",
   "execution_count": 2,
   "metadata": {},
   "outputs": [],
   "source": [
    "params = cfg.read_config()\n",
    "m0 = params['MASS of LIGHTEST PARTICLE']\n",
    "m_spec = np.array(params['MASS SPECTRUM'])\n",
    "x_grid = grd.gen( grid_type = params['GRID TYPE'], prm = params['GRID PARAMETRE(S)'])\n",
    "s_range = x_grid[1:]\n",
    "result_all = {}\n",
    "result_all['varOptimized'] = []\n",
    "result_all['conOptimized'] = []\n",
    "result_all['mass'] = []\n",
    "result_all['mass_id'] = []\n",
    "\n",
    "output_all = []\n",
    "\n",
    "for m_id in len(m_spec): ## For loop to find maximum coupling J_i associated with each mass pole m_i\n",
    "    targetj = m_id\n",
    "    [result, conOptimized] = bs.maxj(m_spec, targetj, x_grid, s_range, approx_method = \"linspline\")\n",
    "    varOptimized = result.x\n",
    "\n",
    "    result_all['varOptimized'].append(varOptimized)\n",
    "    result_all['conOptimized'].append(conOptimized)\n",
    "    result_all['mass'].append(m_spec[m_id])\n",
    "    result_all['mass_id'].append(m_id)\n",
    "\n",
    "    output_curr = {}\n",
    "    output_curr['success'] = result.success\n",
    "    output_curr['message'] = result.message\n",
    "    output_curr['mass'] = m_spec[m_id]\n",
    "    output_curr['mass_id'] = m_id\n",
    "    output_all.append(output_curr)\n",
    "\n",
    "\n",
    "result_all['varOptimized'] = np.array(result_all['varOptimized'])\n",
    "result_all['conOptimized'] = np.array(result_all['conOptimized'])\n",
    "result_all['mass'] = np.array(result_all['mass'])\n",
    "result_all['mass_id'] = np.array(result_all['mass_id'])\n",
    "\n",
    "save_path = os.path.join(cwd, \"result\")\n",
    "save_path = os.path.join(save_path, \"result.npz\")\n",
    "np.savez(save_path, mass_spectrum = result_all['mass'], mass_id = result_all['mass_id'], \\\n",
    "         varOptimized = result_all['varOptimized'], \\\n",
    "         conOptimized = result_all['conOptimized'], x_grid = x_grid)\n",
    "\n",
    "outputfile = os.path.join(cwd, \"out\")\n",
    "outputfile = os.path.join(outputfile, \"out.json\")\n",
    "with open('outputfile', 'w') as fout:\n",
    "    json.dump(output_all, fout)\n",
    "\n",
    "        "
   ]
  }
 ],
 "metadata": {
  "kernelspec": {
   "display_name": "master-env",
   "language": "python",
   "name": "python3"
  },
  "language_info": {
   "codemirror_mode": {
    "name": "ipython",
    "version": 3
   },
   "file_extension": ".py",
   "mimetype": "text/x-python",
   "name": "python",
   "nbconvert_exporter": "python",
   "pygments_lexer": "ipython3",
   "version": "3.9.16"
  },
  "orig_nbformat": 4
 },
 "nbformat": 4,
 "nbformat_minor": 2
}
