{
 "cells": [
  {
   "cell_type": "code",
   "execution_count": 1,
   "metadata": {},
   "outputs": [],
   "source": [
    "import sys, os\n",
    "import numpy as np\n",
    "cwd = os.getcwd() "
   ]
  },
  {
   "cell_type": "code",
   "execution_count": null,
   "metadata": {},
   "outputs": [],
   "source": [
    "def unif(prm):\n",
    "    M = prm[0]\n",
    "    if M <= 0 or type(M) != type(1):\n",
    "        print(\"Number of grid points must be a positive integer!\")\n",
    "        sys.exit(1)\n",
    "    tail = prm[1]\n",
    "    x_grid = np.linspace(4, tail, num=M+1, endpoint = True)\n",
    "    return x_grid\n",
    "\n",
    "def expt(prm):\n",
    "    M = prm[0]\n",
    "    if M <= 0 or type(M) != type(1):\n",
    "        print(\"Number of grid points must be a positive integer!\")\n",
    "        sys.exit(1)\n",
    "    alph = prm[1]\n",
    "    b = prm[2]\n",
    "\n",
    "    x_grid = np.array([4 + b * (i**alph) for i in range(M+1)])\n",
    "    return x_grid\n",
    "\n",
    "def custom(prm):\n",
    "    grid_file_path = prm\n",
    "    try:\n",
    "        grid = np.load(grid_file_path, allow_pickle=False)\n",
    "        if not( len(grid.shape) == 1):\n",
    "            print(f\"List of grid points contained in {grid_file_path} must be a 1-dimensional numpy array!\")\n",
    "            sys.exit(1)\n",
    "        if not( grid.dtype == np.float64 or grid.dtype == np.float128):\n",
    "            print(f\"Grid points contained in {grid_file_path} must be of data type either 'float64' or 'float128' !\")\n",
    "            sys.exit(1)\n",
    "    except ValueError:\n",
    "        print(f\"{grid_file_path} is an invalid .npy file!\")\n",
    "        sys.exit(1)\n",
    "    \n",
    "    if grid[0] > 4:\n",
    "        x_grid = np.zeros(shape = (len(grid)+1,) , dtype = float)\n",
    "        x_grid[0] = 4\n",
    "        x_grid[1:] = grid\n",
    "        return x_grid\n",
    "    elif grid[0] < 4:\n",
    "        print(\"The grid points must start with 4!\")\n",
    "        sys.exit(1)\n",
    "    else:\n",
    "        return grid\n",
    "\n",
    "def gen(grid_type, prm):\n",
    "    if grid_type == \"uniform\":\n",
    "        return unif(prm)\n",
    "    elif grid_type == \"exp\":\n",
    "        return expt(prm)\n",
    "    elif grid_type == \"custom\":\n",
    "        return custom(prm)\n",
    "    else:\n",
    "        print(\"Grid type must be one of the following values: \" + \"'uniform', 'exp', 'custom' !\")\n",
    "        sys.exit(1)"
   ]
  },
  {
   "cell_type": "code",
   "execution_count": null,
   "metadata": {},
   "outputs": [],
   "source": [
    "###jupyter nbconvert --to python grid.ipynb "
   ]
  }
 ],
 "metadata": {
  "kernelspec": {
   "display_name": "master-env",
   "language": "python",
   "name": "python3"
  },
  "language_info": {
   "codemirror_mode": {
    "name": "ipython",
    "version": 3
   },
   "file_extension": ".py",
   "mimetype": "text/x-python",
   "name": "python",
   "nbconvert_exporter": "python",
   "pygments_lexer": "ipython3",
   "version": "3.9.16"
  },
  "orig_nbformat": 4
 },
 "nbformat": 4,
 "nbformat_minor": 2
}
